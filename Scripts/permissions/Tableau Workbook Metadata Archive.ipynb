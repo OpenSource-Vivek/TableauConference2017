{
 "cells": [
  {
   "cell_type": "markdown",
   "metadata": {},
   "source": [
    "# This script will archive key information about your Tableau Workbooks to Dynamo\n",
    "\n",
    "+ Name\n",
    "+ Archival Time\n",
    "+ Expiration Time\n",
    "+ Workbook ID\n",
    "+ Owner ID\n",
    "+ Site ID\n",
    "+ Permissions\n",
    "\n",
    "Once this information is in Dynamo, it can be retrieved quickly like so\n",
    "Access permissions with the following\n",
    "```\n",
    "response = dynamo.get_item(\n",
    "     TableName =  'Tableau_Workbooks',\n",
    "     Key = {\n",
    "         'Name': {\n",
    "             'S': 'Workbook Name'\n",
    "         }\n",
    "     }\n",
    "   \n",
    " )\n",
    "```"
   ]
  },
  {
   "cell_type": "markdown",
   "metadata": {},
   "source": [
    "First step is to get all the packages you need. This script doesn't use the Server Client Library because it doesn't have a method for permissions."
   ]
  },
  {
   "cell_type": "code",
   "execution_count": null,
   "metadata": {
    "collapsed": true
   },
   "outputs": [],
   "source": [
    "#Import your packages\n",
    "from slacker import Slacker\n",
    "import psycopg2\n",
    "import boto3\n",
    "import time\n",
    "import datetime\n",
    "import requests\n",
    "from requests.packages.urllib3.exceptions import InsecureRequestWarning\n",
    "requests.packages.urllib3.disable_warnings(InsecureRequestWarning)\n",
    "import json\n",
    "import multiprocessing as mp\n",
    "from datetime import datetime"
   ]
  },
  {
   "cell_type": "markdown",
   "metadata": {},
   "source": [
    "In order to speed things up, we will be using the multiprocessing library. This allows Python to work on all your cores, in parallel, so you don't have to iterate over everythign one at a time. How much time does this save? The initial version of this script took >20m. Now it runs in <5."
   ]
  },
  {
   "cell_type": "code",
   "execution_count": null,
   "metadata": {
    "collapsed": true
   },
   "outputs": [],
   "source": [
    "#Set your credentials and other settings\n",
    "username = ''\n",
    "password = ''\n",
    "serverurl = ''\n",
    "current_time = time.time()\n",
    "slack = Slacker('')\n",
    "#This will cause the record to expire in 180 days\n",
    "#We rewrite every N days, so this will always get reset, unless content is deleted\n",
    "expiry = current_time + 15552000\n",
    "cpus=mp.cpu_count()\n",
    "dynamo = boto3.client('dynamodb')"
   ]
  },
  {
   "cell_type": "markdown",
   "metadata": {},
   "source": [
    "We are going to use a special function in Dynamo called TTL (time-to-live). We archive all our workbooks regularly. If a workbook gets screened out due to inactivity, we want to make sure we can re-publish in its prior state. We record every workbook in Server in Dynamo, and add an expiration key of time + 180 days.\n",
    "\n",
    "This means that if a workbook gets deleted, it won't be updated and has 180 days to be republished. After that, the record expires out of Dynamo **AUTOMATICALLY**\n",
    "\n",
    "---\n",
    "\n",
    "Next up, we define our functions. These are the raw Python functions for accessing the Server REST API. We also use Boto3, the official python client for AWS. We set up a Dynamo interface and create our *create item* and *update item* functions\n",
    "\n",
    "> Note that if you are running this on a machine without AWS credentials, this won't work. You either need to pre-configure them, or run them on a machine with an appropriate IAM role."
   ]
  },
  {
   "cell_type": "code",
   "execution_count": null,
   "metadata": {
    "collapsed": true
   },
   "outputs": [],
   "source": [
    "#Define your functions\n",
    "def toDynamo(item):\n",
    "    dynamo.put_item(\n",
    "        TableName='Tableau_Workbooks',\n",
    "        Item={\n",
    "            'Name': {'S':item['name']},\n",
    "            'ID': {'S': item['ID']},\n",
    "            'Owner': {'S': item['owner']},\n",
    "            'Site': {'S':item['site']},\n",
    "            'Write': {'N': str(current_time)},\n",
    "            'Expiry': {'N': str(expiry)},            \n",
    "        }\n",
    "    )\n",
    "\n",
    "def updateDynamo(name,update):\n",
    "    dynamo.update_item(\n",
    "        TableName='Tableau_Workbooks',\n",
    "        Key={\n",
    "            'Name': {'S':name},\n",
    "        },\n",
    "        UpdateExpression='SET Perms = :r',\n",
    "        ExpressionAttributeValues={\n",
    "            ':r': {'S':update}\n",
    "        }\n",
    "    )\n",
    "\n",
    "def login(site_name):\n",
    "    url = serverurl+\"/api/2.6/auth/signin\"\n",
    "    payload = \"{\\n  \\\"credentials\\\": {\\n    \\\"name\\\": \\\"\"+username+\"\\\",\\n    \\\"password\\\": \\\"\"+password+\"\\\",\\n    \\\"site\\\": {\\n      \\\"contentUrl\\\": \\\"\"+site_name+\"\\\"\\n    }\\n  }\\n}\"\n",
    "    headers = {\n",
    "        'content-type': \"application/json\",\n",
    "        'accept': \"application/json\",\n",
    "        }\n",
    "    response = requests.request(\"POST\", url, data=payload, headers=headers, verify=False)\n",
    "    token = response.json()\n",
    "    return token.values()[0]['token']\n",
    "\n",
    "def get_sites(auth):\n",
    "    url = serverurl+\"/api/2.6/sites\"\n",
    "    headers = {\n",
    "        'content-type': 'application/json',\n",
    "        'accept': 'application/json',\n",
    "        'X-Tableau-Auth': auth\n",
    "    }\n",
    "    response = requests.request('get', url=url, headers=headers)\n",
    "    json = response.json()\n",
    "    response_json = json['sites']['site']\n",
    "    sites = []\n",
    "    for response in response_json:\n",
    "        values = [response['contentUrl'], response['id']]\n",
    "        site = {'site_id':values[1], 'url':values[0]}\n",
    "        sites.append(site)\n",
    "    return sites\n",
    "\n",
    "def get_workbooks(site_id,auth):\n",
    "    url = serverurl+\"/api/2.6/sites/\"+site_id+\"/workbooks?pageSize=1000\"\n",
    "    headers = {\n",
    "        'content-type': 'application/json',\n",
    "        'accept': 'application/json',\n",
    "        'X-Tableau-Auth': auth\n",
    "    }\n",
    "    response = requests.request('get', url=url, headers=headers)\n",
    "    json = response.json()\n",
    "    return json\n",
    "\n",
    "def perms(data):\n",
    "    url = serverurl+\"/api/2.6/sites/\"+data['siteid']+\"/workbooks/\"+data['workbook']+'/permissions'\n",
    "    headers = {\n",
    "        'content-type': \"application/json\",\n",
    "        'accept': \"application/json\",\n",
    "        'X-Tableau-Auth': data['auth']\n",
    "        }\n",
    "    response = requests.request(\"GET\", url, headers=headers)\n",
    "    updateDynamo(data['name'], response.text)\n",
    "    \n",
    "pool = mp.Pool(processes=cpus)"
   ]
  },
  {
   "cell_type": "markdown",
   "metadata": {},
   "source": [
    "Here at the bottom we create our pool - which is linked to the number of cores we have on our machine. Then we simply execute our functions. When we get to a point where we have all the information we need for our Dynamo update, we add them to the pool and let the parallelism commence."
   ]
  },
  {
   "cell_type": "code",
   "execution_count": null,
   "metadata": {
    "collapsed": true
   },
   "outputs": [],
   "source": [
    "#Go\n",
    "auth = login('')\n",
    "sites = get_sites(auth)"
   ]
  },
  {
   "cell_type": "code",
   "execution_count": null,
   "metadata": {
    "collapsed": true
   },
   "outputs": [],
   "source": [
    "workbooks_list = []\n",
    "for site in sites:\n",
    "    auth = login(site['url'])\n",
    "    workbooks = get_workbooks(site['site_id'],auth)\n",
    "    if len(workbooks['workbooks'])==0:\n",
    "        print('No workbooks to archive')\n",
    "    else: \n",
    "        workbook_filter = workbooks['workbooks']['workbook']        \n",
    "        for workbook in workbook_filter:\n",
    "            record = {'name':workbook['name'],'ID':workbook['id'],'owner':workbook['owner']['id'],'site':site['site_id']}\n",
    "            workbooks_list.append(record)\n",
    "pool.map(toDynamo,workbooks_list) "
   ]
  },
  {
   "cell_type": "code",
   "execution_count": null,
   "metadata": {
    "collapsed": true
   },
   "outputs": [],
   "source": [
    "workbook_ids = []\n",
    "for site in sites:        \n",
    "    site_id = site['site_id']\n",
    "    auth = login(site['url'])\n",
    "    workbooks = get_workbooks(site_id,auth)\n",
    "    if len(workbooks['workbooks'])==0:\n",
    "        print('No workbooks to archive')\n",
    "    else: \n",
    "        workbook_filter = workbooks['workbooks']['workbook']  \n",
    "        for workbook in workbook_filter:\n",
    "            record = {'siteid':site_id,'workbook':workbook['id'],'auth':auth, 'name':workbook['name']}\n",
    "            workbook_ids.append(record)\n",
    "pool.map(perms,workbook_ids)"
   ]
  },
  {
   "cell_type": "markdown",
   "metadata": {},
   "source": [
    "Now that everything is complete, we close down the pool and send a notification that the job is complete."
   ]
  },
  {
   "cell_type": "code",
   "execution_count": null,
   "metadata": {
    "collapsed": true
   },
   "outputs": [],
   "source": [
    "#Cleanup\n",
    "pool.close() \n",
    "pool.join() \n",
    "slack.chat.post_message('@christ', 'Workbook details archived')"
   ]
  }
 ],
 "metadata": {
  "kernel_info": {
   "name": "python2"
  },
  "kernelspec": {
   "display_name": "Python 2",
   "language": "python",
   "name": "python2"
  },
  "language_info": {
   "codemirror_mode": {
    "name": "ipython",
    "version": 2
   },
   "file_extension": ".py",
   "mimetype": "text/x-python",
   "name": "python",
   "nbconvert_exporter": "python",
   "pygments_lexer": "ipython2",
   "version": "2.7.14"
  }
 },
 "nbformat": 4,
 "nbformat_minor": 2
}
